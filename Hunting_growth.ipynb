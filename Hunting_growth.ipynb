{
 "cells": [
  {
   "cell_type": "markdown",
   "metadata": {},
   "source": [
    "# Hunting Growth Stocks"
   ]
  },
  {
   "cell_type": "markdown",
   "metadata": {},
   "source": [
    "Growth companies are those with huge potential returns and are often found in the technology sector. Here is the official definition from [investing.com](http://www.investopedia.com/terms/g/growthcompany.asp):\n",
    "\n",
    ">A growth company is any firm whose business generates significant positive cash flows or earnings, which increase at significantly faster rates than the overall economy. \n",
    "\n",
    "So how can we spot those kind of companies? We can screan stocks based on annual earning growth, revenues growth, return on equity...etc. We can also look for companies developing disruptive technologies. But could we just let the experts do it for us? for free? Well this is what I am exploring in this post. \n",
    "\n",
    "Each year, a bunch of news sites and organizations publish lists of the most innovative companies. In this post, I aggregated those lists from the sites and compared the holding period return for the listed companies from 2012 to 2015. Not all companies in the lists were included. Only those with that are listed on either NASDAQ, NYSE and AMEX, and Trading in the stock market during the whole holding period. You can download the aggregated list from the repo on github. The data are collected from the below soursec. Note that for Forves list, I could not find the whole list for 2012, only the top ten. \n",
    "- ### [Forbes](http://www.forbes.com/sites/samanthasharf/2012/09/05/the-ten-most-innovative-companies-in-america/#3f28c5aa23d3) \n",
    "- ### [Barclays](http://www.businessinsider.com/presenting-the-39-companies-that-will-win-through-innovation-2012-4?op=1)\n",
    "- ### [Thomson Reuters](http://top100innovators.stateofinnovation.thomsonreuters.com/)\n",
    "- ### [PWC](http://www.strategyand.pwc.com/global/home/what-we-think/innovation1000/top-innovators-spenders#/tab-2012)\n",
    "- ### [MIT](http://www2.technologyreview.com/tr50/2012/?_ga=1.224498527.453581319.1458158445)\n",
    "- ### [BCG](https://www.bcgperspectives.com/content/interactive/innovation_growth_most_innovative_companies_interactive_guide/)\n",
    "- ### [Fast Company](http://www.fastcompany.com/section/most-innovative-companies-2012)"
   ]
  },
  {
   "cell_type": "markdown",
   "metadata": {},
   "source": [
    "## Loading the data"
   ]
  },
  {
   "cell_type": "code",
   "execution_count": 18,
   "metadata": {
    "collapsed": true
   },
   "outputs": [],
   "source": [
    "# import the required libraries\n",
    "import pandas as pd\n",
    "import pandas_datareader.data as web\n",
    "import datetime\n",
    "from IPython.display import IFrame"
   ]
  },
  {
   "cell_type": "code",
   "execution_count": 5,
   "metadata": {
    "collapsed": true
   },
   "outputs": [],
   "source": [
    "# Load the aggregated list of companies\n",
    "data = pd.read_csv(\"TOP_COMP_2012.csv\")\n",
    "start = datetime.datetime(2013, 1, 1)\n",
    "end = datetime.datetime(2015, 12, 31)\n",
    "tickers = list(data['ticker'])"
   ]
  },
  {
   "cell_type": "code",
   "execution_count": 10,
   "metadata": {
    "collapsed": false
   },
   "outputs": [
    {
     "data": {
      "text/plain": [
       "['AMAT', 'ARMH', 'ATHN', 'DWA', 'FB', 'FSLR', 'GE', 'GOOG', 'IBM']"
      ]
     },
     "execution_count": 10,
     "metadata": {},
     "output_type": "execute_result"
    }
   ],
   "source": [
    "tickers[1:10]"
   ]
  },
  {
   "cell_type": "code",
   "execution_count": 11,
   "metadata": {
    "collapsed": true
   },
   "outputs": [],
   "source": [
    "# importing the stock prices\n",
    "ls_key = 'Adj Close'\n",
    "f = web.DataReader(tickers, 'yahoo',start,end)\n",
    "cleanData = f.ix[ls_key]\n",
    "stock_data = pd.DataFrame(cleanData)"
   ]
  },
  {
   "cell_type": "code",
   "execution_count": 12,
   "metadata": {
    "collapsed": false
   },
   "outputs": [
    {
     "data": {
      "text/html": [
       "<div>\n",
       "<table border=\"1\" class=\"dataframe\">\n",
       "  <thead>\n",
       "    <tr style=\"text-align: right;\">\n",
       "      <th></th>\n",
       "      <th>AAPL</th>\n",
       "      <th>ABT</th>\n",
       "      <th>ADI</th>\n",
       "      <th>ADTN</th>\n",
       "      <th>ALXN</th>\n",
       "      <th>AMAT</th>\n",
       "      <th>AMD</th>\n",
       "      <th>AMZN</th>\n",
       "      <th>ARMH</th>\n",
       "      <th>ATHN</th>\n",
       "      <th>...</th>\n",
       "      <th>TGI</th>\n",
       "      <th>TM</th>\n",
       "      <th>TXN</th>\n",
       "      <th>UTX</th>\n",
       "      <th>VAR</th>\n",
       "      <th>WST</th>\n",
       "      <th>WWD</th>\n",
       "      <th>XLNX</th>\n",
       "      <th>XOM</th>\n",
       "      <th>XRX</th>\n",
       "    </tr>\n",
       "    <tr>\n",
       "      <th>Date</th>\n",
       "      <th></th>\n",
       "      <th></th>\n",
       "      <th></th>\n",
       "      <th></th>\n",
       "      <th></th>\n",
       "      <th></th>\n",
       "      <th></th>\n",
       "      <th></th>\n",
       "      <th></th>\n",
       "      <th></th>\n",
       "      <th></th>\n",
       "      <th></th>\n",
       "      <th></th>\n",
       "      <th></th>\n",
       "      <th></th>\n",
       "      <th></th>\n",
       "      <th></th>\n",
       "      <th></th>\n",
       "      <th></th>\n",
       "      <th></th>\n",
       "      <th></th>\n",
       "    </tr>\n",
       "  </thead>\n",
       "  <tbody>\n",
       "    <tr>\n",
       "      <th>2013-01-02</th>\n",
       "      <td>73.280868</td>\n",
       "      <td>29.832167</td>\n",
       "      <td>40.087662</td>\n",
       "      <td>18.902343</td>\n",
       "      <td>100.050003</td>\n",
       "      <td>11.029123</td>\n",
       "      <td>2.53</td>\n",
       "      <td>257.309998</td>\n",
       "      <td>38.095465</td>\n",
       "      <td>75.440002</td>\n",
       "      <td>...</td>\n",
       "      <td>67.116903</td>\n",
       "      <td>95.989998</td>\n",
       "      <td>29.376620</td>\n",
       "      <td>77.959188</td>\n",
       "      <td>72.470001</td>\n",
       "      <td>26.736646</td>\n",
       "      <td>38.755271</td>\n",
       "      <td>34.325251</td>\n",
       "      <td>80.456559</td>\n",
       "      <td>6.661249</td>\n",
       "    </tr>\n",
       "    <tr>\n",
       "      <th>2013-01-03</th>\n",
       "      <td>72.355899</td>\n",
       "      <td>30.967745</td>\n",
       "      <td>39.440793</td>\n",
       "      <td>19.005635</td>\n",
       "      <td>98.480003</td>\n",
       "      <td>11.001178</td>\n",
       "      <td>2.49</td>\n",
       "      <td>258.480011</td>\n",
       "      <td>37.646940</td>\n",
       "      <td>74.839996</td>\n",
       "      <td>...</td>\n",
       "      <td>68.365683</td>\n",
       "      <td>95.370003</td>\n",
       "      <td>28.994749</td>\n",
       "      <td>78.246892</td>\n",
       "      <td>73.680000</td>\n",
       "      <td>26.833466</td>\n",
       "      <td>38.024223</td>\n",
       "      <td>34.260469</td>\n",
       "      <td>80.311449</td>\n",
       "      <td>6.661249</td>\n",
       "    </tr>\n",
       "    <tr>\n",
       "      <th>2013-01-04</th>\n",
       "      <td>70.340452</td>\n",
       "      <td>30.781584</td>\n",
       "      <td>38.739259</td>\n",
       "      <td>19.522094</td>\n",
       "      <td>97.620003</td>\n",
       "      <td>11.001178</td>\n",
       "      <td>2.59</td>\n",
       "      <td>259.149994</td>\n",
       "      <td>37.490931</td>\n",
       "      <td>76.349998</td>\n",
       "      <td>...</td>\n",
       "      <td>68.742297</td>\n",
       "      <td>97.339996</td>\n",
       "      <td>28.931104</td>\n",
       "      <td>78.868714</td>\n",
       "      <td>72.720001</td>\n",
       "      <td>26.925443</td>\n",
       "      <td>38.336140</td>\n",
       "      <td>33.779231</td>\n",
       "      <td>80.683300</td>\n",
       "      <td>6.587133</td>\n",
       "    </tr>\n",
       "    <tr>\n",
       "      <th>2013-01-07</th>\n",
       "      <td>69.926686</td>\n",
       "      <td>31.032901</td>\n",
       "      <td>38.857701</td>\n",
       "      <td>19.540873</td>\n",
       "      <td>97.309998</td>\n",
       "      <td>10.870766</td>\n",
       "      <td>2.67</td>\n",
       "      <td>268.459991</td>\n",
       "      <td>37.607937</td>\n",
       "      <td>77.989998</td>\n",
       "      <td>...</td>\n",
       "      <td>68.999983</td>\n",
       "      <td>95.529999</td>\n",
       "      <td>29.022026</td>\n",
       "      <td>78.488196</td>\n",
       "      <td>75.190002</td>\n",
       "      <td>26.760850</td>\n",
       "      <td>37.829280</td>\n",
       "      <td>33.640410</td>\n",
       "      <td>79.749130</td>\n",
       "      <td>6.698308</td>\n",
       "    </tr>\n",
       "    <tr>\n",
       "      <th>2013-01-08</th>\n",
       "      <td>70.114886</td>\n",
       "      <td>31.042207</td>\n",
       "      <td>38.456822</td>\n",
       "      <td>19.456361</td>\n",
       "      <td>97.489998</td>\n",
       "      <td>10.721724</td>\n",
       "      <td>2.67</td>\n",
       "      <td>266.380005</td>\n",
       "      <td>38.270976</td>\n",
       "      <td>77.639999</td>\n",
       "      <td>...</td>\n",
       "      <td>67.334945</td>\n",
       "      <td>93.930000</td>\n",
       "      <td>28.685617</td>\n",
       "      <td>77.541552</td>\n",
       "      <td>74.839996</td>\n",
       "      <td>26.693077</td>\n",
       "      <td>37.780541</td>\n",
       "      <td>32.955573</td>\n",
       "      <td>80.247962</td>\n",
       "      <td>6.689043</td>\n",
       "    </tr>\n",
       "  </tbody>\n",
       "</table>\n",
       "<p>5 rows × 87 columns</p>\n",
       "</div>"
      ],
      "text/plain": [
       "                 AAPL        ABT        ADI       ADTN        ALXN       AMAT  \\\n",
       "Date                                                                            \n",
       "2013-01-02  73.280868  29.832167  40.087662  18.902343  100.050003  11.029123   \n",
       "2013-01-03  72.355899  30.967745  39.440793  19.005635   98.480003  11.001178   \n",
       "2013-01-04  70.340452  30.781584  38.739259  19.522094   97.620003  11.001178   \n",
       "2013-01-07  69.926686  31.032901  38.857701  19.540873   97.309998  10.870766   \n",
       "2013-01-08  70.114886  31.042207  38.456822  19.456361   97.489998  10.721724   \n",
       "\n",
       "             AMD        AMZN       ARMH       ATHN    ...           TGI  \\\n",
       "Date                                                  ...                 \n",
       "2013-01-02  2.53  257.309998  38.095465  75.440002    ...     67.116903   \n",
       "2013-01-03  2.49  258.480011  37.646940  74.839996    ...     68.365683   \n",
       "2013-01-04  2.59  259.149994  37.490931  76.349998    ...     68.742297   \n",
       "2013-01-07  2.67  268.459991  37.607937  77.989998    ...     68.999983   \n",
       "2013-01-08  2.67  266.380005  38.270976  77.639999    ...     67.334945   \n",
       "\n",
       "                   TM        TXN        UTX        VAR        WST        WWD  \\\n",
       "Date                                                                           \n",
       "2013-01-02  95.989998  29.376620  77.959188  72.470001  26.736646  38.755271   \n",
       "2013-01-03  95.370003  28.994749  78.246892  73.680000  26.833466  38.024223   \n",
       "2013-01-04  97.339996  28.931104  78.868714  72.720001  26.925443  38.336140   \n",
       "2013-01-07  95.529999  29.022026  78.488196  75.190002  26.760850  37.829280   \n",
       "2013-01-08  93.930000  28.685617  77.541552  74.839996  26.693077  37.780541   \n",
       "\n",
       "                 XLNX        XOM       XRX  \n",
       "Date                                        \n",
       "2013-01-02  34.325251  80.456559  6.661249  \n",
       "2013-01-03  34.260469  80.311449  6.661249  \n",
       "2013-01-04  33.779231  80.683300  6.587133  \n",
       "2013-01-07  33.640410  79.749130  6.698308  \n",
       "2013-01-08  32.955573  80.247962  6.689043  \n",
       "\n",
       "[5 rows x 87 columns]"
      ]
     },
     "execution_count": 12,
     "metadata": {},
     "output_type": "execute_result"
    }
   ],
   "source": [
    "stock_data.head()"
   ]
  },
  {
   "cell_type": "markdown",
   "metadata": {},
   "source": [
    "## Results"
   ]
  },
  {
   "cell_type": "code",
   "execution_count": 13,
   "metadata": {
    "collapsed": true
   },
   "outputs": [],
   "source": [
    "# Calulating the holding period returns \n",
    "returns = (stock_data.iloc[-1]/stock_data.iloc[0] - 1)\n",
    "returns = pd.DataFrame(returns)\n",
    "returns = returns.sort_values(by = [0], ascending=False)\n",
    "returns['ticker'] = list(returns.index)\n",
    "returns.columns = ['HPR','ticker']"
   ]
  },
  {
   "cell_type": "code",
   "execution_count": 14,
   "metadata": {
    "collapsed": false
   },
   "outputs": [
    {
     "data": {
      "text/html": [
       "<div>\n",
       "<table border=\"1\" class=\"dataframe\">\n",
       "  <thead>\n",
       "    <tr style=\"text-align: right;\">\n",
       "      <th></th>\n",
       "      <th>HPR</th>\n",
       "      <th>ticker</th>\n",
       "    </tr>\n",
       "  </thead>\n",
       "  <tbody>\n",
       "    <tr>\n",
       "      <th>NFLX</th>\n",
       "      <td>7.701880</td>\n",
       "      <td>NFLX</td>\n",
       "    </tr>\n",
       "    <tr>\n",
       "      <th>FB</th>\n",
       "      <td>2.737857</td>\n",
       "      <td>FB</td>\n",
       "    </tr>\n",
       "    <tr>\n",
       "      <th>ILMN</th>\n",
       "      <td>2.463551</td>\n",
       "      <td>ILMN</td>\n",
       "    </tr>\n",
       "    <tr>\n",
       "      <th>GILD</th>\n",
       "      <td>1.728395</td>\n",
       "      <td>GILD</td>\n",
       "    </tr>\n",
       "    <tr>\n",
       "      <th>SYNA</th>\n",
       "      <td>1.640158</td>\n",
       "      <td>SYNA</td>\n",
       "    </tr>\n",
       "  </tbody>\n",
       "</table>\n",
       "</div>"
      ],
      "text/plain": [
       "           HPR ticker\n",
       "NFLX  7.701880   NFLX\n",
       "FB    2.737857     FB\n",
       "ILMN  2.463551   ILMN\n",
       "GILD  1.728395   GILD\n",
       "SYNA  1.640158   SYNA"
      ]
     },
     "execution_count": 14,
     "metadata": {},
     "output_type": "execute_result"
    }
   ],
   "source": [
    "returns.head()"
   ]
  },
  {
   "cell_type": "code",
   "execution_count": 15,
   "metadata": {
    "collapsed": true
   },
   "outputs": [],
   "source": [
    "# plotting the returns\n",
    "# note the the code below will open an interactive chart in a new page\n",
    "# I edited the chart manualy through plotly and exported to this post\n",
    "import plotly\n",
    "import plotly.graph_objs as go\n",
    "\n",
    "plot_url = plotly.offline.plot({\n",
    "\"data\": [\n",
    "    go.Bar(\n",
    "        x=returns['ticker'],\n",
    "        y=returns['HPR']\n",
    "    )\n",
    "        ]\n",
    "    })"
   ]
  },
  {
   "cell_type": "code",
   "execution_count": 16,
   "metadata": {
    "collapsed": true
   },
   "outputs": [],
   "source": [
    "#Average return\n",
    "avg_return = returns['HPR'].mean(axis=0)*100\n",
    "# percentage of positive returns\n",
    "percentage_positive = len(returns[returns['HPR']>0])/float(len(returns))*100 "
   ]
  },
  {
   "cell_type": "code",
   "execution_count": 28,
   "metadata": {
    "collapsed": false
   },
   "outputs": [
    {
     "data": {
      "text/html": [
       "\n",
       "        <iframe\n",
       "            width=\"1000\"\n",
       "            height=\"550\"\n",
       "            src=\"https://plot.ly/~ahmedas91/0.embed\"\n",
       "            frameborder=\"0\"\n",
       "            allowfullscreen\n",
       "        ></iframe>\n",
       "        "
      ],
      "text/plain": [
       "<IPython.lib.display.IFrame at 0x111599a90>"
      ]
     },
     "execution_count": 28,
     "metadata": {},
     "output_type": "execute_result"
    }
   ],
   "source": [
    "IFrame(\"https://plot.ly/~ahmedas91/0.embed\", width=1000, height=550)"
   ]
  },
  {
   "cell_type": "markdown",
   "metadata": {},
   "source": [
    "The above chart shows an astonishing results with an average return of 66%. Around 87% of the companies showed a positive holding period return. So can we conclude that we can just rely on the experts for hunting big growth companies? Let's not get our hopes up yet. Let's first check if we just invested in the S&P 500 and compare its cumulative returns with a portfolio of equal weights of the stocks above. "
   ]
  },
  {
   "cell_type": "code",
   "execution_count": 17,
   "metadata": {
    "collapsed": true
   },
   "outputs": [],
   "source": [
    "# Importing the s&p price index\n",
    "ff = web.DataReader(\"^GSPC\", 'yahoo',start,end)\n",
    "s_p = pd.DataFrame(ff['Adj Close'])\n",
    "\n",
    "# calculating the daily cumulative returns during the period\n",
    "sp = pd.DataFrame([0])\n",
    "portfolio = pd.DataFrame([0])\n",
    "for i in range(1,len(stock_data)):\n",
    "    sp_returns = (s_p.iloc[i]/s_p.iloc[0] - 1)[0]\n",
    "    portfolio_returns = (stock_data.iloc[i]/stock_data.iloc[0] - 1).mean(axis=0)\n",
    "    sp = sp.append([sp_returns])\n",
    "    portfolio = portfolio.append([portfolio_returns])    \n",
    "cum_returns = pd.concat([portfolio, sp], axis=1)\n",
    "cum_returns.columns = ['Portfolio','S&P']\n",
    "cum_returns = cum_returns.set_index(stock_data.index)\n",
    "\n",
    "# same as the above plot. Manually editing the chart in plotly\n",
    "plot = plotly.offline.plot([{\n",
    "    'x': cum_returns.index,\n",
    "    'y': cum_returns[col],\n",
    "    'name': col\n",
    "}  for col in cum_returns.columns])"
   ]
  },
  {
   "cell_type": "code",
   "execution_count": 29,
   "metadata": {
    "collapsed": false,
    "scrolled": false
   },
   "outputs": [
    {
     "data": {
      "text/html": [
       "\n",
       "        <iframe\n",
       "            width=\"1000\"\n",
       "            height=\"550\"\n",
       "            src=\"https://plot.ly/~ahmedas91/4.embed\"\n",
       "            frameborder=\"0\"\n",
       "            allowfullscreen\n",
       "        ></iframe>\n",
       "        "
      ],
      "text/plain": [
       "<IPython.lib.display.IFrame at 0x111599f10>"
      ]
     },
     "execution_count": 29,
     "metadata": {},
     "output_type": "execute_result"
    }
   ],
   "source": [
    "IFrame(\"https://plot.ly/~ahmedas91/4.embed\", width=1000, height=550)"
   ]
  },
  {
   "cell_type": "markdown",
   "metadata": {},
   "source": [
    "Well, we're still beating the market by about 30%. So can we really just let the experts do it for us? Well maybe use their lists as preliminary screener only."
   ]
  }
 ],
 "metadata": {
  "kernelspec": {
   "display_name": "Python 2",
   "language": "python",
   "name": "python2"
  },
  "language_info": {
   "codemirror_mode": {
    "name": "ipython",
    "version": 2
   },
   "file_extension": ".py",
   "mimetype": "text/x-python",
   "name": "python",
   "nbconvert_exporter": "python",
   "pygments_lexer": "ipython2",
   "version": "2.7.11"
  }
 },
 "nbformat": 4,
 "nbformat_minor": 0
}
